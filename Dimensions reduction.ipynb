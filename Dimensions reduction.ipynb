{
 "cells": [
  {
   "cell_type": "markdown",
   "metadata": {},
   "source": [
    "\n",
    "### Alexandra Asinovskaya, 336091798"
   ]
  },
  {
   "cell_type": "markdown",
   "metadata": {},
   "source": [
    "The task is to recreate the results of Partial Least Squares Regression for N prediction in oilseed rape leaf, and to add results of Pricipal Components Regression. The PLS and PCA are very similar, they are used for dimension reduction. But PCA is considered unsupervised method, bacause it doesn't taking into account relationships between X and Y, whereas PLS is considered supervised because it reduces dimentions taking both into account. PCA finds loadings that explain most of the variance using only values of X, and PLS is using both X and Y and finds loadings using also covariance of X and Y. "
   ]
  },
  {
   "cell_type": "code",
   "execution_count": 1,
   "metadata": {},
   "outputs": [],
   "source": [
    "import numpy as np \n",
    "import pandas as pd\n",
    "import matplotlib.pyplot as plt\n",
    "import math\n",
    "import random\n",
    "random.seed(10)\n",
    "\n",
    "from sklearn.preprocessing import scale \n",
    "from sklearn import model_selection\n",
    "from sklearn.decomposition import PCA\n",
    "from sklearn.linear_model import LinearRegression\n",
    "from sklearn.cross_decomposition import PLSRegression, PLSSVD\n",
    "from sklearn.metrics import mean_squared_error\n",
    "from sklearn.metrics import r2_score"
   ]
  },
  {
   "cell_type": "code",
   "execution_count": 2,
   "metadata": {},
   "outputs": [],
   "source": [
    "data = pd.read_csv(\"Meanspectra.csv\")\n",
    "data_train = data[data[\"Dataset\"]==1]\n",
    "data_train = data_train.drop(['ID', 'Dataset'], axis=1)\n",
    "data_test = data[data[\"Dataset\"]==0]\n",
    "data_test = data_test.drop(['ID', 'Dataset'], axis=1)"
   ]
  },
  {
   "cell_type": "code",
   "execution_count": 3,
   "metadata": {},
   "outputs": [],
   "source": [
    "X_train = data_train.drop([\"N Values\"], axis=1)\n",
    "y_train = data_train[\"N Values\"]\n",
    "X_test = data_test.drop([\"N Values\"], axis=1)\n",
    "y_test = data_test[\"N Values\"]"
   ]
  },
  {
   "cell_type": "markdown",
   "metadata": {},
   "source": [
    "### PCR"
   ]
  },
  {
   "cell_type": "code",
   "execution_count": 4,
   "metadata": {},
   "outputs": [],
   "source": [
    "pca = PCA()\n",
    "regr = LinearRegression()\n",
    "\n",
    "X_reduced_train = pca.fit_transform(scale(X_train))\n",
    "n = len(X_reduced_train)"
   ]
  },
  {
   "cell_type": "code",
   "execution_count": 5,
   "metadata": {},
   "outputs": [],
   "source": [
    "kf_10 = model_selection.KFold(n_splits=10, shuffle=True, random_state=1)\n",
    "\n",
    "mse = []\n",
    "\n",
    "# Calculate MSE with only the intercept (no principal components in regression)\n",
    "mse_n = -1*model_selection.cross_val_score(regr, np.ones((n,1)), y_train.ravel(), cv=kf_10, scoring='neg_root_mean_squared_error').mean()    \n",
    "mse.append(mse_n)\n",
    "\n",
    "# Calculate MSE using CV for the 127 principle components, adding one component at the time.\n",
    "for i in np.arange(1, 20):\n",
    "    mse_n = -1*model_selection.cross_val_score(regr, X_reduced_train[:,:i], y_train.ravel(), cv=kf_10, scoring='neg_root_mean_squared_error').mean()\n",
    "    mse.append(mse_n)"
   ]
  },
  {
   "cell_type": "code",
   "execution_count": 6,
   "metadata": {},
   "outputs": [
    {
     "data": {
      "image/png": "[encoded data removed]",
      "text/plain": [
       "<Figure size 432x288 with 1 Axes>"
      ]
     },
     "metadata": {
      "needs_background": "light"
     },
     "output_type": "display_data"
    }
   ],
   "source": [
    "plt.plot(np.array(mse), '-v')\n",
    "plt.xlabel('Number of principal components in regression')\n",
    "plt.ylabel('MSE')\n",
    "plt.show()"
   ]
  },
  {
   "cell_type": "code",
   "execution_count": 7,
   "metadata": {},
   "outputs": [],
   "source": [
    "m = mse.index(min(mse))\n",
    "X_reduced_test = pca.transform(scale(X_test))[:,:m+1]\n",
    "\n",
    "# Train regression model on training data \n",
    "regr = LinearRegression()\n",
    "regr.fit(X_reduced_train[:,:m+1], y_train)\n",
    "\n",
    "\n",
    "# Prediction with train and test data\n",
    "pred_train = regr.predict(X_reduced_train[:,:m+1])\n",
    "rmse1_train = mean_squared_error(y_train, pred_train)\n",
    "r2_1_train = r2_score(y_train, pred_train)\n",
    "rpd1_train = np.std(y_train)/rmse1_train\n",
    "\n",
    "pred_test = regr.predict(X_reduced_test)\n",
    "rmse1_test = mean_squared_error(y_test, pred_test)\n",
    "r2_1_test = r2_score(y_test, pred_test)\n",
    "rpd1_test = np.std(y_test)/rmse1_test"
   ]
  },
  {
   "cell_type": "markdown",
   "metadata": {},
   "source": [
    "### PLSRegression"
   ]
  },
  {
   "cell_type": "code",
   "execution_count": 8,
   "metadata": {},
   "outputs": [
    {
     "data": {
      "image/png": "[encoded data removed]",
      "text/plain": [
       "<Figure size 432x288 with 1 Axes>"
      ]
     },
     "metadata": {
      "needs_background": "light"
     },
     "output_type": "display_data"
    }
   ],
   "source": [
    "n = len(X_train)\n",
    "\n",
    "# 10-fold CV, with shuffle\n",
    "kf_10 = model_selection.KFold(n_splits=10, shuffle=True, random_state=1)\n",
    "\n",
    "mse = []\n",
    "\n",
    "for i in np.arange(1, 20):\n",
    "    pls = PLSRegression(n_components=i)\n",
    "    score = model_selection.cross_val_score(pls, scale(X_train), y_train, cv=kf_10, scoring='neg_mean_squared_error').mean()\n",
    "    mse.append(-score)\n",
    "\n",
    "# Plot results\n",
    "plt.plot(np.arange(1, 20), np.array(mse), '-v')\n",
    "plt.xlabel('Number of principal components in regression')\n",
    "plt.ylabel('MSE')\n",
    "plt.show()"
   ]
  },
  {
   "cell_type": "code",
   "execution_count": 9,
   "metadata": {},
   "outputs": [],
   "source": [
    "m = mse.index(min(mse))"
   ]
  },
  {
   "cell_type": "code",
   "execution_count": 10,
   "metadata": {},
   "outputs": [],
   "source": [
    "pls = PLSRegression(n_components=m)\n",
    "pls.fit(scale(X_train), y_train)\n",
    "\n",
    "pred_train = pls.predict(scale(X_train))\n",
    "r2_2_train = r2_score(y_train, pred_train)\n",
    "rmse2_train = math.sqrt(mean_squared_error(y_train, pred_train)) \n",
    "rpd2_train = np.std(y_train)/rmse2_train\n",
    "pred_test = pls.predict(scale(X_test))\n",
    "r2_2_test = r2_score(y_test, pred_test)\n",
    "rmse2_test = math.sqrt(mean_squared_error(y_test, pred_test))\n",
    "rpd2_test = np.std(y_test)/rmse2_test"
   ]
  },
  {
   "cell_type": "code",
   "execution_count": 11,
   "metadata": {},
   "outputs": [],
   "source": [
    "d= pd.DataFrame(np.array([[r2_1_train, rmse1_train, rpd1_train, r2_1_test, rmse1_test, rpd1_test],\n",
    "                         [r2_2_train, rmse2_train, rpd2_train, r2_2_test, rmse2_test, rpd2_test]]),\n",
    "                columns=['R2_c', 'RMSE_c', 'RPD_c','R2_p', 'RMSE_p', 'RPD_p'])\n",
    "d.index = ['PCA', 'PLS']"
   ]
  },
  {
   "cell_type": "code",
   "execution_count": 12,
   "metadata": {},
   "outputs": [
    {
     "data": {
      "text/html": [
       "<div>\n",
       "<style scoped>\n",
       "    .dataframe tbody tr th:only-of-type {\n",
       "        vertical-align: middle;\n",
       "    }\n",
       "\n",
       "    .dataframe tbody tr th {\n",
       "        vertical-align: top;\n",
       "    }\n",
       "\n",
       "    .dataframe thead th {\n",
       "        text-align: right;\n",
       "    }\n",
       "</style>\n",
       "<table border=\"1\" class=\"dataframe\">\n",
       "  <thead>\n",
       "    <tr style=\"text-align: right;\">\n",
       "      <th></th>\n",
       "      <th>R2_c</th>\n",
       "      <th>RMSE_c</th>\n",
       "      <th>RPD_c</th>\n",
       "      <th>R2_p</th>\n",
       "      <th>RMSE_p</th>\n",
       "      <th>RPD_p</th>\n",
       "    </tr>\n",
       "  </thead>\n",
       "  <tbody>\n",
       "    <tr>\n",
       "      <th>PCA</th>\n",
       "      <td>0.915965</td>\n",
       "      <td>0.089146</td>\n",
       "      <td>11.553643</td>\n",
       "      <td>0.854906</td>\n",
       "      <td>0.141251</td>\n",
       "      <td>6.985204</td>\n",
       "    </tr>\n",
       "    <tr>\n",
       "      <th>PLS</th>\n",
       "      <td>0.925681</td>\n",
       "      <td>0.280782</td>\n",
       "      <td>3.668180</td>\n",
       "      <td>0.829114</td>\n",
       "      <td>0.407872</td>\n",
       "      <td>2.419061</td>\n",
       "    </tr>\n",
       "  </tbody>\n",
       "</table>\n",
       "</div>"
      ],
      "text/plain": [
       "         R2_c    RMSE_c      RPD_c      R2_p    RMSE_p     RPD_p\n",
       "PCA  0.915965  0.089146  11.553643  0.854906  0.141251  6.985204\n",
       "PLS  0.925681  0.280782   3.668180  0.829114  0.407872  2.419061"
      ]
     },
     "execution_count": 12,
     "metadata": {},
     "output_type": "execute_result"
    }
   ],
   "source": [
    "d"
   ]
  },
  {
   "cell_type": "markdown",
   "metadata": {},
   "source": [
    "As it written in a paper, a good model should yield high values of $RPD_C, ~RPD_P, ~R^2_C,~ R^2_P$, while low values of $RMSE_C, ~RMSE_P$, as well as a small difference between them. From that it like PCA performed slightly better than PLS. "
   ]
  }
 ],
 "metadata": {
  "kernelspec": {
   "display_name": "Python 3",
   "language": "python",
   "name": "python3"
  },
  "language_info": {
   "codemirror_mode": {
    "name": "ipython",
    "version": 3
   },
   "file_extension": ".py",
   "mimetype": "text/x-python",
   "name": "python",
   "nbconvert_exporter": "python",
   "pygments_lexer": "ipython3",
   "version": "3.8.5"
  }
 },
 "nbformat": 4,
 "nbformat_minor": 4
}
